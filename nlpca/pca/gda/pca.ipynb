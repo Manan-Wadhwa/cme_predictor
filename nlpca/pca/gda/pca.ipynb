{
 "cells": [
  {
   "cell_type": "code",
   "execution_count": 2,
   "id": "88e8d913-b13a-45da-88c0-5b6553ff70f0",
   "metadata": {},
   "outputs": [],
   "source": [
    "import pandas as pd\n",
    "import numpy as np\n",
    "import matplotlib.pyplot as plt\n",
    "from sklearn.preprocessing import StandardScaler\n"
   ]
  },
  {
   "cell_type": "code",
   "execution_count": 3,
   "id": "dd5459fd-53dd-4155-8c7b-bb1ecb244ca1",
   "metadata": {},
   "outputs": [],
   "source": [
    "def standardize_data(X):\n",
    "    \"\"\"Standardizes the dataset using Z-score normalization.\"\"\"\n",
    "    scaler = StandardScaler()\n",
    "    X_scaled = scaler.fit_transform(X)\n",
    "    return X_scaled"
   ]
  },
  {
   "cell_type": "code",
   "execution_count": 4,
   "id": "6a8a5193-0856-47a5-90eb-d2f36cf888cd",
   "metadata": {},
   "outputs": [],
   "source": [
    "def pca_svd(X):\n",
    "    \"\"\"Performs PCA using SVD and returns the transformed data.\"\"\"\n",
    "    # Standardize data\n",
    "    X_scaled = standardize_data(X)\n",
    "    print(\"Data standardized\")\n",
    "    # Compute SVD\n",
    "    U, S, Vt = np.linalg.svd(X_scaled, full_matrices=False)       # 'full_matrices = False' produces reduced-size matrices making it more efficient for large datasets.\n",
    "    print(\"SVD completed\")\n",
    "    return X_scaled, Vt, S\n",
    "    "
   ]
  },
  {
   "cell_type": "code",
   "execution_count": 5,
   "id": "291ac67d-3311-408e-9bda-1edc307c300f",
   "metadata": {},
   "outputs": [],
   "source": [
    "def reconstruct(pc, k):\n",
    "    # Select top k components (rows of Vt)\n",
    "    principal_components = pc[:k]\n",
    "    # Project data onto top k principal components\n",
    "    X_reduced = np.dot(X_scaled, principal_components.T)\n",
    "    return X_reduced"
   ]
  },
  {
   "cell_type": "code",
   "execution_count": 6,
   "id": "87c9ec46-0d7f-4a76-87fb-c7f4d794d42b",
   "metadata": {},
   "outputs": [
    {
     "name": "stdout",
     "output_type": "stream",
     "text": [
      "Orig shape:  (5130185, 15)\n",
      "Shape after dropping cols:  (1992258, 12)\n",
      "data loaded\n",
      "Data standardized\n",
      "SVD completed\n",
      "Normalized data shape:  (1992258, 12)\n",
      "\n",
      "Eigenvectors (Top-k Principal Components):\n",
      "[[-1.41991950e-01  4.46595263e-01 -4.46595263e-01  2.36245678e-01\n",
      "   1.91990303e-01  3.90436395e-01 -8.44510079e-02  4.44374657e-01\n",
      "   3.59867285e-01 -2.88233515e-02  2.88602528e-02  7.86015767e-03]\n",
      " [ 8.41509033e-03 -2.93810985e-02  2.93810985e-02  7.57091412e-03\n",
      "  -2.88706894e-02  5.25416410e-03  6.43141853e-04 -3.21415667e-02\n",
      "   5.60644612e-03 -6.92068044e-01  6.93821481e-01  1.89401416e-01]\n",
      " [-6.78580132e-01 -7.16904280e-02  7.16904280e-02  2.21032030e-02\n",
      "   5.61162684e-02 -1.33002634e-01 -7.04933288e-01 -5.29116397e-02\n",
      "  -9.03863071e-02 -2.56389275e-03  2.48382306e-03 -3.11003664e-03]\n",
      " [-5.47410311e-03  2.98240300e-01 -2.98240300e-01 -5.55718064e-01\n",
      "   2.40995475e-01 -3.90527441e-01  5.52681073e-02  3.05691192e-01\n",
      "  -4.51938022e-01 -3.09467862e-02  3.08696212e-02  1.46008187e-03]\n",
      " [ 5.91543549e-03 -1.28718445e-02  1.28718445e-02  5.78613969e-02\n",
      "   1.23571632e-01 -1.99926129e-02  1.17597514e-02 -1.40941306e-02\n",
      "  -2.79566270e-02  1.40837756e-01 -1.21801411e-01  9.72021954e-01]\n",
      " [ 4.98884536e-02 -1.03518855e-01  1.03518855e-01  4.27043714e-01\n",
      "   8.41701905e-01 -1.23036879e-01  1.06441900e-01 -1.07255504e-01\n",
      "  -1.63336105e-01 -2.93106858e-02  2.66005638e-02 -1.37961302e-01]\n",
      " [-2.47746498e-01 -1.53373252e-01  1.53373252e-01 -6.32549231e-01\n",
      "   3.81327274e-01  2.61095803e-01  1.84161973e-01 -1.69416813e-01\n",
      "   4.63957303e-01  5.59118361e-04 -5.39947274e-04  5.02827242e-04]\n",
      " [ 6.60543796e-01 -3.82489068e-02  3.82489068e-02 -2.13428485e-01\n",
      "   1.78633715e-01  2.06249536e-01 -6.62986791e-01 -9.65838419e-03\n",
      "   3.31976784e-02  1.23473256e-03 -1.29224549e-03 -2.30052451e-03]\n",
      " [-1.38004388e-01 -6.33518101e-02  6.33518101e-02 -5.84247329e-02\n",
      "  -4.77742884e-03  7.41478204e-01  8.58393943e-02  1.45101635e-03\n",
      "  -6.42124331e-01  1.58600961e-03 -1.71847928e-03 -1.43297997e-03]\n",
      " [-1.00757996e-03 -4.07088369e-01  4.07088369e-01  4.64430559e-03\n",
      "   1.72904467e-03 -3.59560345e-02  2.40503889e-02  8.15322757e-01\n",
      "   4.36356161e-02 -1.90784195e-03  9.99132843e-04  1.17641107e-03]\n",
      " [-1.28237564e-05 -2.55134536e-04  2.55134536e-04 -7.70918807e-06\n",
      "  -5.00519876e-07  3.89953613e-05  4.23066636e-06  5.52099254e-04\n",
      "  -1.98610380e-05  7.06076751e-01  7.08004696e-01 -1.35843866e-02]\n",
      " [-5.67133541e-16 -7.07106781e-01 -7.07106781e-01  1.36925828e-16\n",
      "   1.06376091e-16 -2.15036244e-16  4.54446932e-16  3.70414262e-16\n",
      "   1.80895401e-16  4.04477245e-16  6.84568272e-16 -3.69494933e-18]]\n",
      "PC   Variance explained   Total variance\n",
      "0  35.87          35.87\n",
      "1  16.97          52.84\n",
      "2  13.21          66.05\n",
      "3  10.08          76.13\n",
      "4  8.01          84.14\n",
      "5  7.86          92.0\n",
      "6  4.04          96.04\n",
      "7  2.84          98.88\n",
      "8  1.05          99.93\n",
      "9  0.07          100.0\n",
      "10  0.0          100.0\n",
      "11  0.0          100.0\n"
     ]
    }
   ],
   "source": [
    "# Example usage\n",
    "file_path = \"/Users/vishrutgupta/Desktop/ISRO_bah_2025/merged_data_combined.csv\"\n",
    "df = pd.read_csv(file_path, na_values=[-1e+31, '-1e+31'])\n",
    "print(\"Orig shape: \", df.shape)\n",
    "df = df.replace([np.inf, -np.inf], np.nan)\n",
    "df = df.dropna()\n",
    "cme_column = df['CME'] if 'CME' in df.columns else None\n",
    "cols_to_drop = ['epoch_for_cdf_mod', 'CME', 'HALO']\n",
    "df = df.drop(columns = cols_to_drop)\n",
    "print(\"Shape after dropping cols: \", df.shape)\n",
    "\n",
    "print(\"data loaded\")\n",
    "# Convert DataFrame to NumPy array\n",
    "df = df.values\n",
    "\n",
    "# Perform PCA and reduce dimensions\n",
    "X_scaled, principal_components, S = pca_svd(df)\n",
    "print(\"Normalized data shape: \", X_scaled.shape)\n",
    "\n",
    "# Print eigenvectors and eigenvalues\n",
    "eigenvectors = principal_components  # Rows of Vt[:k]\n",
    "# print(eigenvectors.shape)\n",
    "eigenvalues = (S**2) / (df.shape[0] - 1)  # Convert singular values to eigenvalues\n",
    "eigenvalues = eigenvalues.round(4)\n",
    "\n",
    "print(\"\\nEigenvectors (Top-k Principal Components):\")\n",
    "print(eigenvectors)\n",
    "\n",
    "print(\"PC   Variance explained   Total variance\")\n",
    "total_e = sum(eigenvalues)\n",
    "sum_v = 0\n",
    "for i in range(len(eigenvalues)):\n",
    "    variance_exp = (eigenvalues[i] / total_e * 100).round(2)\n",
    "    sum_v += variance_exp\n",
    "    print(f\"{i}  {variance_exp}          {sum_v.round(2)}\")"
   ]
  },
  {
   "cell_type": "code",
   "execution_count": 7,
   "id": "307bdd67-f0c2-4049-8c00-d11074e3f961",
   "metadata": {},
   "outputs": [
    {
     "data": {
      "image/png": "[encoded data removed]",
      "text/plain": [
       "<Figure size 600x400 with 1 Axes>"
      ]
     },
     "metadata": {},
     "output_type": "display_data"
    }
   ],
   "source": [
    "# Scree Plot (Variance Explained)\n",
    "explained_variance = S**2 / np.sum(S**2)\n",
    "plt.figure(figsize=(6, 4))\n",
    "plt.bar(range(1, len(S) + 1), explained_variance * 100)\n",
    "plt.xlabel(\"Principal Components\")\n",
    "plt.ylabel(\"Variance Explained (%)\")\n",
    "plt.title(\"Scree Plot\")\n",
    "plt.grid()\n",
    "plt.show()"
   ]
  },
  {
   "cell_type": "code",
   "execution_count": 14,
   "id": "a66bba2d-f700-4634-9206-7720a07e17b0",
   "metadata": {},
   "outputs": [
    {
     "name": "stdout",
     "output_type": "stream",
     "text": [
      "Reconstructed dataset shape:  (1992258, 6)\n",
      "CME column successfully appended.\n",
      "\n",
      "Saved reduced data with CME column to lpca_90perc.csv\n"
     ]
    }
   ],
   "source": [
    "# Save data\n",
    "X_reduced = reconstruct(pc = principal_components, k = 6)\n",
    "X_reduced = pd.DataFrame(X_reduced, columns=[f'PC{i+1}' for i in range(X_reduced.shape[1])])\n",
    "print(\"Reconstructed dataset shape: \", X_reduced.shape)\n",
    "# X_reduced_df = pd.DataFrame(X_reduced, columns=[f\"PC{i+1}\" for i in range(X_reduced.shape[1])])\n",
    "if cme_column is not None and len(cme_column) == len(X_reduced):\n",
    "    X_reduced['CME'] = cme_column.reset_index(drop=True)\n",
    "    print(\"CME column successfully appended.\")\n",
    "else:\n",
    "    print(\"Warning: CME column not appended due to length mismatch or missing column.\")\n",
    "\n",
    "X_reduced.to_csv(\"lpca_90perc.csv\", index=False)\n",
    "print(\"\\nSaved reduced data with CME column to lpca_90perc.csv\")\n"
   ]
  },
  {
   "cell_type": "code",
   "execution_count": null,
   "id": "2eaed5bd-5a6d-484b-9c48-90b1a82b4998",
   "metadata": {},
   "outputs": [],
   "source": []
  }
 ],
 "metadata": {
  "kernelspec": {
   "display_name": "Python (tensorflow_env)",
   "language": "python",
   "name": "tensorflow_env"
  },
  "language_info": {
   "codemirror_mode": {
    "name": "ipython",
    "version": 3
   },
   "file_extension": ".py",
   "mimetype": "text/x-python",
   "name": "python",
   "nbconvert_exporter": "python",
   "pygments_lexer": "ipython3",
   "version": "3.10.16"
  },
  "widgets": {
   "application/vnd.jupyter.widget-state+json": {
    "state": {},
    "version_major": 2,
    "version_minor": 0
   }
  }
 },
 "nbformat": 4,
 "nbformat_minor": 5
}
