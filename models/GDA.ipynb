{
 "cells": [
  {
   "cell_type": "code",
   "execution_count": 13,
   "id": "1f39cdf8-ba36-45c5-9f74-1173d9e265fd",
   "metadata": {},
   "outputs": [
    {
     "name": "stdout",
     "output_type": "stream",
     "text": [
      "Validation Confusion Matrix:\n",
      " [[273351  11591]\n",
      " [108139   5371]]\n",
      "\n",
      "Validation Report:\n",
      "               precision    recall  f1-score   support\n",
      "\n",
      "           0       0.72      0.96      0.82    284942\n",
      "           1       0.32      0.05      0.08    113510\n",
      "\n",
      "    accuracy                           0.70    398452\n",
      "   macro avg       0.52      0.50      0.45    398452\n",
      "weighted avg       0.60      0.70      0.61    398452\n",
      "\n",
      "Test Confusion Matrix:\n",
      " [[273365  11577]\n",
      " [108176   5334]]\n",
      "\n",
      "Test Report:\n",
      "               precision    recall  f1-score   support\n",
      "\n",
      "           0       0.72      0.96      0.82    284942\n",
      "           1       0.32      0.05      0.08    113510\n",
      "\n",
      "    accuracy                           0.70    398452\n",
      "   macro avg       0.52      0.50      0.45    398452\n",
      "weighted avg       0.60      0.70      0.61    398452\n",
      "\n"
     ]
    }
   ],
   "source": [
    "import pandas as pd\n",
    "import numpy as np\n",
    "from numpy.linalg import inv, det\n",
    "from sklearn.model_selection import train_test_split\n",
    "from sklearn.metrics import classification_report, confusion_matrix\n",
    "\n",
    "# Load your dataset (assumed format)\n",
    "df = pd.read_csv(\"nlpca_98perc_6pc.csv\")\n",
    "X = df.iloc[:, :6].values           # First 3 columns as features\n",
    "y = df.iloc[:, -2].values           # Second last column as CME\n",
    "\n",
    "# Split dataset\n",
    "X_temp, X_test, y_temp, y_test = train_test_split(X, y, test_size=0.2, random_state=42, stratify=y)\n",
    "X_train, X_val, y_train, y_val = train_test_split(X_temp, y_temp, test_size=0.25, random_state=42, stratify=y_temp)\n",
    "\n",
    "# Function to compute GDA parameters\n",
    "def compute_gda_parameters(X, y):\n",
    "    X0 = X[y == 0]\n",
    "    X1 = X[y == 1]\n",
    "    mu0 = np.mean(X0, axis=0)\n",
    "    mu1 = np.mean(X1, axis=0)\n",
    "    cov0 = np.cov(X0, rowvar=False)\n",
    "    cov1 = np.cov(X1, rowvar=False)\n",
    "    return mu0, mu1, cov0, cov1\n",
    "\n",
    "# Function to predict using GDA\n",
    "def gda_predict(X, mu0, mu1, cov0, cov1):\n",
    "    inv_cov0 = inv(cov0)\n",
    "    inv_cov1 = inv(cov1)\n",
    "    det_cov0 = det(cov0)\n",
    "    det_cov1 = det(cov1)\n",
    "    preds = []\n",
    "    for x in X:\n",
    "        d0 = (x - mu0).T @ inv_cov0 @ (x - mu0) + np.log(det_cov0)\n",
    "        d1 = (x - mu1).T @ inv_cov1 @ (x - mu1) + np.log(det_cov1)\n",
    "        preds.append(0 if d0 < d1 else 1)\n",
    "    return np.array(preds)\n",
    "\n",
    "# Train model\n",
    "mu0, mu1, cov0, cov1 = compute_gda_parameters(X_train, y_train)\n",
    "\n",
    "# Validate\n",
    "val_preds = gda_predict(X_val, mu0, mu1, cov0, cov1)\n",
    "print(\"Validation Confusion Matrix:\\n\", confusion_matrix(y_val, val_preds))\n",
    "print(\"\\nValidation Report:\\n\", classification_report(y_val, val_preds))\n",
    "\n",
    "# Test\n",
    "test_preds = gda_predict(X_test, mu0, mu1, cov0, cov1)\n",
    "print(\"Test Confusion Matrix:\\n\", confusion_matrix(y_test, test_preds))\n",
    "print(\"\\nTest Report:\\n\", classification_report(y_test, test_preds))"
   ]
  },
  {
   "cell_type": "code",
   "execution_count": null,
   "id": "ee64fe9a-ee22-48ea-9fb6-28187cf0eb02",
   "metadata": {},
   "outputs": [],
   "source": []
  }
 ],
 "metadata": {
  "kernelspec": {
   "display_name": "Python (tensorflow_env)",
   "language": "python",
   "name": "tensorflow_env"
  },
  "language_info": {
   "codemirror_mode": {
    "name": "ipython",
    "version": 3
   },
   "file_extension": ".py",
   "mimetype": "text/x-python",
   "name": "python",
   "nbconvert_exporter": "python",
   "pygments_lexer": "ipython3",
   "version": "3.10.16"
  },
  "widgets": {
   "application/vnd.jupyter.widget-state+json": {
    "state": {},
    "version_major": 2,
    "version_minor": 0
   }
  }
 },
 "nbformat": 4,
 "nbformat_minor": 5
}
